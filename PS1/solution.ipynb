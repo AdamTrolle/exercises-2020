{
 "cells": [
  {
   "cell_type": "markdown",
   "metadata": {},
   "source": [
    "## Many consumption goods\n",
    "\n",
    "We are asked to solve maximize a consumers utility (Cobb-Douglas utility function) given an exogenous income, \\\\(I\\\\) and an exogenous price vector \\\\(\\mathbf P\\\\).\n",
    "\n",
    "A Cobb-Douglas function can generally be written as:\n",
    "\n",
    "\\\\[\n",
    "u({\\mathbf x})=\\prod^M_{m=1}x_m^{\\alpha_m}, {\\mathbf x}=(x_1, x_2, \\ldots, x_M),{\\mathbf x} \\in \\mathbb{R}^M_{\\geq0},{\\mathbf p} \\in \\mathbb{R}^M_{>0}, I > 0\n",
    "\\\\]\n",
    "\n",
    "\n",
    "We further assume that \\\\(\\alpha_m \\in (0, 1)\\\\) and that \\\\(\\sum^M_{m=1}\\alpha_m=1\\\\). Furthermore, we require that the income equals or exceeds the value of the consumption vector. That is \\\\(I\\geq {\\mathbf P}^T{\\mathbf X}=p_1x_1 + p_2x_2 + \\ldots + p_Mx_M\\\\). The maximization problem aim to solve is therefore:\n",
    "\n",
    "\\\\[\n",
    "\\begin{eqnarray*}\n",
    "V(p_{1},p_{2},\\dots,,p_{M},I) & = & \\max_{x_{1},x_{2},\\dots,x_M} x_{1}^{\\alpha_1} x_{2}^{\\alpha_2} \\dots x_{M}^{\\alpha_M} \\\\\n",
    " & \\text{s.t.}\\\\\n",
    "\\sum_{m=1}^{M}p_{m}x_{m} & \\leq & I,\\,\\,\\,p_{1},p_{2},\\dots,p_M,I>0\\\\\n",
    "x_{1},x_{2},\\dots,x_M & \\geq & 0\n",
    "\\end{eqnarray*}\n",
    "\\\\]\n",
    "\n",
    "### How to solve this in Python?\n",
    "\n",
    "What you shouldn't do is to fire up Python and begin to code at this very moment. The first step in solving the above is to make a sequential plan of how we solve it.\n",
    "\n",
    "So one way of solving the following problem is to do a grid search in \\\\(M\\\\) dimensions.\n",
    "\n",
    "------\n",
    "\n",
    "1. Define the utility function\n",
    "1. Define a income validator\n",
    "1. Define a function that returns all combination of x lists\n",
    "1. Then\n",
    "    1. Loop through all rows in the combination matrix\n",
    "    1. Check if the combination yields a higher payoff and it doesn't violates the income restriction. If both true, then save the new combination as new best solution."
   ]
  },
  {
   "cell_type": "code",
   "execution_count": 1,
   "metadata": {},
   "outputs": [],
   "source": [
    "import numpy as np\n",
    "\n",
    "def best_choice_mdimensions(I, p, alpha, x):\n",
    "    \"\"\"Utility maximization using gridsearch\n",
    "    \n",
    "    Args:\n",
    "        I(int): The agents income\n",
    "        p(list of int): the pricevector. Should have the same number of elements as columns in x.\n",
    "        alpha(list of doubles): the alphavector. Should have the same number of elements as columns in x.\n",
    "        x(numpyarray): array that contains the values that should be tested of each good. \n",
    "                       The function automatically tests all combinations of the supplied values.\n",
    "    \n",
    "    \"\"\"\n",
    "    grid = product(*x)\n",
    "    best_choice = ()\n",
    "    for i in grid:\n",
    "        if best_choice:\n",
    "            if best_choice[0] < utility_function(i, alpha) and income_okay(i, I, p):\n",
    "                best_choice = (utility_function(i, alpha), i)\n",
    "        elif income_okay(i, I, p):\n",
    "            best_choice = (utility_function(i, alpha), i)\n",
    "    return best_choice\n",
    "\n",
    "def utility_function(x, alpha):\n",
    "    \"\"\"Returns the utility using Cobb-Douglas preferences\"\"\"\n",
    "    return np.product(np.power(x, alpha))\n",
    "\n",
    "def income_okay(x, I, P):\n",
    "    \"\"\"Checks that the income restriction is not violated\"\"\"\n",
    "    if I >= np.sum(x * P):\n",
    "        return True\n",
    "    else:\n",
    "        return False\n",
    "\n",
    "def product(*args):\n",
    "    \"\"\"This function take n iterators and returns a list of lists\n",
    "    that constiutes all possible combinations of the iterators.\"\"\"\n",
    "    res = [[]]\n",
    "    for k in args:\n",
    "        tmp = []\n",
    "        for s in res:\n",
    "            for y in k:\n",
    "                tmp.append(s + [y])\n",
    "        res = tmp\n",
    "    return np.array(res)\n",
    "\n",
    "def product_(*args):\n",
    "    \"\"\"Another way to get all combinations of a set of iterators\"\"\"\n",
    "    res = [[]]\n",
    "    for i in args:\n",
    "        res = [s + [j] for s in res for j in i]\n",
    "    return res"
   ]
  },
  {
   "cell_type": "code",
   "execution_count": 2,
   "metadata": {},
   "outputs": [
    {
     "name": "stdout",
     "output_type": "stream",
     "text": [
      "(4.3108894970088834, array([ 3.15789474,  4.21052632,  6.31578947,  2.10526316,  4.21052632]))\n"
     ]
    }
   ],
   "source": [
    "I = 100\n",
    "p = [3, 4, 5, 6, 7]\n",
    "alpha = [0.1, 0.2, 0.3, 0.1, 0.3]\n",
    "X = [np.linspace(0, 20, 20) for i in range(5)]\n",
    "print(best_choice_mdimensions(I, p, alpha, X))"
   ]
  }
 ],
 "metadata": {
  "kernelspec": {
   "display_name": "Python 3",
   "language": "python",
   "name": "python3"
  },
  "language_info": {
   "codemirror_mode": {
    "name": "ipython",
    "version": 3
   },
   "file_extension": ".py",
   "mimetype": "text/x-python",
   "name": "python",
   "nbconvert_exporter": "python",
   "pygments_lexer": "ipython3",
   "version": "3.6.3"
  }
 },
 "nbformat": 4,
 "nbformat_minor": 2
}
