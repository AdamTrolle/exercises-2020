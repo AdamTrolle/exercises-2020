{
 "cells": [
  {
   "cell_type": "markdown",
   "metadata": {
    "toc": true
   },
   "source": [
    "<h1>Table of Contents<span class=\"tocSkip\"></span></h1>\n",
    "<div class=\"toc\"><ul class=\"toc-item\"><li><span><a href=\"#Tasks\" data-toc-modified-id=\"Tasks-1\"><span class=\"toc-item-num\">1&nbsp;&nbsp;</span>Tasks</a></span><ul class=\"toc-item\"><li><span><a href=\"#print\" data-toc-modified-id=\"print-1.1\"><span class=\"toc-item-num\">1.1&nbsp;&nbsp;</span>print</a></span></li><li><span><a href=\"#matplotlib\" data-toc-modified-id=\"matplotlib-1.2\"><span class=\"toc-item-num\">1.2&nbsp;&nbsp;</span>matplotlib</a></span></li><li><span><a href=\"#scipy.optimize\" data-toc-modified-id=\"scipy.optimize-1.3\"><span class=\"toc-item-num\">1.3&nbsp;&nbsp;</span>scipy.optimize</a></span></li></ul></li><li><span><a href=\"#Problems\" data-toc-modified-id=\"Problems-2\"><span class=\"toc-item-num\">2&nbsp;&nbsp;</span>Problems</a></span><ul class=\"toc-item\"><li><span><a href=\"#Many-consumption-goods\" data-toc-modified-id=\"Many-consumption-goods-2.1\"><span class=\"toc-item-num\">2.1&nbsp;&nbsp;</span>Many consumption goods</a></span></li></ul></li><li><span><a href=\"#Extra-Problem:-Cost-minimization\" data-toc-modified-id=\"Extra-Problem:-Cost-minimization-3\"><span class=\"toc-item-num\">3&nbsp;&nbsp;</span>Extra Problem: Cost minimization</a></span></li><li><span><a href=\"#Export-to-HTML\" data-toc-modified-id=\"Export-to-HTML-4\"><span class=\"toc-item-num\">4&nbsp;&nbsp;</span>Export to HTML</a></span></li></ul></div>"
   ]
  },
  {
   "cell_type": "markdown",
   "metadata": {},
   "source": [
    "# Tasks"
   ]
  },
  {
   "cell_type": "markdown",
   "metadata": {},
   "source": [
    "These smaller task test your ability to use **print**, **matplotlib** and **scipy.optimize**"
   ]
  },
  {
   "cell_type": "markdown",
   "metadata": {},
   "source": [
    "## print"
   ]
  },
  {
   "cell_type": "markdown",
   "metadata": {},
   "source": [
    "TBD"
   ]
  },
  {
   "cell_type": "code",
   "execution_count": 2,
   "metadata": {},
   "outputs": [
    {
     "name": "stdout",
     "output_type": "stream",
     "text": [
      "Collecting yapf\n",
      "  Downloading https://files.pythonhosted.org/packages/32/12/9f6e437f6c3a76ae18f625998dcff92a51deef0294e1ef6493fbd144b08a/yapf-0.24.0-py2.py3-none-any.whl (168kB)\n",
      "Installing collected packages: yapf\n",
      "Successfully installed yapf-0.24.0\n"
     ]
    },
    {
     "name": "stderr",
     "output_type": "stream",
     "text": [
      "distributed 1.22.0 requires msgpack, which is not installed.\n",
      "You are using pip version 10.0.1, however version 18.1 is available.\n",
      "You should consider upgrading via the 'python -m pip install --upgrade pip' command.\n"
     ]
    }
   ],
   "source": [
    "!pip install yapf"
   ]
  },
  {
   "cell_type": "code",
   "execution_count": 1,
   "metadata": {},
   "outputs": [],
   "source": [
    "a = 2\n",
    "a = (3)"
   ]
  },
  {
   "cell_type": "markdown",
   "metadata": {},
   "source": [
    "## matplotlib"
   ]
  },
  {
   "cell_type": "markdown",
   "metadata": {},
   "source": [
    "TBD"
   ]
  },
  {
   "cell_type": "markdown",
   "metadata": {},
   "source": [
    "## scipy.optimize"
   ]
  },
  {
   "cell_type": "markdown",
   "metadata": {},
   "source": [
    "TBD"
   ]
  },
  {
   "cell_type": "markdown",
   "metadata": {},
   "source": [
    "# Problems"
   ]
  },
  {
   "cell_type": "markdown",
   "metadata": {},
   "source": [
    "## Many consumption goods"
   ]
  },
  {
   "cell_type": "markdown",
   "metadata": {},
   "source": [
    "Consider the following M-good **utility maximization problem** with exogenous income $I$, and price-vector $(p_1,p_2,\\dots,p_M)$,\n",
    "\n",
    "$$\n",
    "\\begin{eqnarray*}\n",
    "V(p_{1},p_{2},\\dots,,p_{M},I) & = & \\max_{x_{1},x_{2},\\dots,x_M} x_{1}^{\\alpha_1} x_{2}^{\\alpha_2} \\dots x_{M}^{\\alpha_M} \\\\\n",
    " & \\text{s.t.}\\\\\n",
    "\\sum_{i=1}^{M}p_{i}x_{i} & \\leq & I,\\,\\,\\,p_{1},p_{2},\\dots,p_M,I>0\\\\\n",
    "x_{1},x_{2},\\dots,x_M & \\geq & 0\n",
    "\\end{eqnarray*}\n",
    "$$"
   ]
  },
  {
   "cell_type": "markdown",
   "metadata": {},
   "source": [
    "**Problem:** Solve the 5-good utility maximization problem for arbitrary preference parameters, prices and income."
   ]
  },
  {
   "cell_type": "markdown",
   "metadata": {},
   "source": [
    "# Extra Problem: Cost minimization"
   ]
  },
  {
   "cell_type": "markdown",
   "metadata": {},
   "source": [
    "Consider the following 2-good **cost minimziation problem** with required utility $u_0$, and price-vector $(p_1,p_2)$,\n",
    "\n",
    "$$\n",
    "\\begin{eqnarray*}\n",
    "E(p_{1},p_{2},u_0) & = & \\min_{x_{1},x_{2}} p_1 x_1+p_2 x_2\\\\\n",
    " & \\text{s.t.}\\\\\n",
    "x_{1}^{\\alpha}x_{2}^{1-\\alpha} & \\geq & u_0 \\\\\n",
    "x_{1},x_{2} & \\geq & 0\n",
    "\\end{eqnarray*}\n",
    "$$"
   ]
  },
  {
   "cell_type": "markdown",
   "metadata": {},
   "source": [
    "**Problem:** Solve the 2-good cost-minimization problem with arbitrary required utility, prices and income. Present your results graphically showing that the optimum is a point, where a budgetline is targent to the indifference curve through $u_0$."
   ]
  },
  {
   "cell_type": "markdown",
   "metadata": {},
   "source": [
    "# Export to HTML"
   ]
  },
  {
   "cell_type": "code",
   "execution_count": 2,
   "metadata": {},
   "outputs": [
    {
     "data": {
      "text/plain": [
       "0"
      ]
     },
     "execution_count": 2,
     "metadata": {},
     "output_type": "execute_result"
    }
   ],
   "source": [
    "import os\n",
    "os.system('jupyter nbconvert --to html \"Solving_the_Consumer_Problem.ipynb\"')"
   ]
  }
 ],
 "metadata": {
  "kernelspec": {
   "display_name": "Python 3",
   "language": "python",
   "name": "python3"
  },
  "language_info": {
   "codemirror_mode": {
    "name": "ipython",
    "version": 3
   },
   "file_extension": ".py",
   "mimetype": "text/x-python",
   "name": "python",
   "nbconvert_exporter": "python",
   "pygments_lexer": "ipython3",
   "version": "3.6.5"
  },
  "toc": {
   "base_numbering": 1,
   "nav_menu": {},
   "number_sections": true,
   "sideBar": true,
   "skip_h1_title": false,
   "title_cell": "Table of Contents",
   "title_sidebar": "Contents",
   "toc_cell": true,
   "toc_position": {},
   "toc_section_display": true,
   "toc_window_display": false
  }
 },
 "nbformat": 4,
 "nbformat_minor": 2
}
