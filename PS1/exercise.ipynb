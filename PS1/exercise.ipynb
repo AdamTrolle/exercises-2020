{
 "cells": [
  {
   "cell_type": "markdown",
   "metadata": {
    "toc": true
   },
   "source": [
    "<h1>Table of Contents<span class=\"tocSkip\"></span></h1>\n",
    "<div class=\"toc\"><ul class=\"toc-item\"><li><span><a href=\"#Tasks\" data-toc-modified-id=\"Tasks-1\"><span class=\"toc-item-num\">1&nbsp;&nbsp;</span>Tasks</a></span><ul class=\"toc-item\"><li><span><a href=\"#print\" data-toc-modified-id=\"print-1.1\"><span class=\"toc-item-num\">1.1&nbsp;&nbsp;</span>print</a></span></li><li><span><a href=\"#matplotlib\" data-toc-modified-id=\"matplotlib-1.2\"><span class=\"toc-item-num\">1.2&nbsp;&nbsp;</span>matplotlib</a></span></li><li><span><a href=\"#scipy.optimize\" data-toc-modified-id=\"scipy.optimize-1.3\"><span class=\"toc-item-num\">1.3&nbsp;&nbsp;</span>scipy.optimize</a></span></li></ul></li><li><span><a href=\"#Problems\" data-toc-modified-id=\"Problems-2\"><span class=\"toc-item-num\">2&nbsp;&nbsp;</span>Problems</a></span><ul class=\"toc-item\"><li><span><a href=\"#Many-consumption-goods\" data-toc-modified-id=\"Many-consumption-goods-2.1\"><span class=\"toc-item-num\">2.1&nbsp;&nbsp;</span>Many consumption goods</a></span></li></ul></li><li><span><a href=\"#Extra-Problem:-Cost-minimization\" data-toc-modified-id=\"Extra-Problem:-Cost-minimization-3\"><span class=\"toc-item-num\">3&nbsp;&nbsp;</span>Extra Problem: Cost minimization</a></span></li><li><span><a href=\"#Export-to-HTML\" data-toc-modified-id=\"Export-to-HTML-4\"><span class=\"toc-item-num\">4&nbsp;&nbsp;</span>Export to HTML</a></span></li></ul></div>"
   ]
  },
  {
   "cell_type": "markdown",
   "metadata": {},
   "source": [
    "# Tasks"
   ]
  },
  {
   "cell_type": "markdown",
   "metadata": {},
   "source": [
    "These smaller task test your ability to use **print**, **matplotlib** and **scipy.optimize**"
   ]
  },
  {
   "cell_type": "markdown",
   "metadata": {},
   "source": [
    "## print"
   ]
  },
  {
   "cell_type": "markdown",
   "metadata": {},
   "source": [
    "TBD"
   ]
  },
  {
   "cell_type": "code",
   "execution_count": 2,
   "metadata": {},
   "outputs": [
    {
     "name": "stdout",
     "output_type": "stream",
     "text": [
      "Collecting yapf\n",
      "  Downloading https://files.pythonhosted.org/packages/32/12/9f6e437f6c3a76ae18f625998dcff92a51deef0294e1ef6493fbd144b08a/yapf-0.24.0-py2.py3-none-any.whl (168kB)\n",
      "Installing collected packages: yapf\n",
      "Successfully installed yapf-0.24.0\n"
     ]
    },
    {
     "name": "stderr",
     "output_type": "stream",
     "text": [
      "distributed 1.22.0 requires msgpack, which is not installed.\n",
      "You are using pip version 10.0.1, however version 18.1 is available.\n",
      "You should consider upgrading via the 'python -m pip install --upgrade pip' command.\n"
     ]
    }
   ],
   "source": [
    "!pip install yapf"
   ]
  },
  {
   "cell_type": "code",
   "execution_count": 1,
   "metadata": {},
   "outputs": [],
   "source": [
    "a = 2\n",
    "a = (3)"
   ]
  },
  {
   "cell_type": "markdown",
   "metadata": {},
   "source": [
    "## matplotlib"
   ]
  },
  {
   "cell_type": "markdown",
   "metadata": {},
   "source": [
    "TBD"
   ]
  },
  {
   "cell_type": "markdown",
   "metadata": {},
   "source": [
    "## scipy.optimize"
   ]
  },
  {
   "cell_type": "markdown",
   "metadata": {},
   "source": [
    "TBD"
   ]
  },
  {
   "cell_type": "markdown",
   "metadata": {},
   "source": [
    "# Problems"
   ]
  },
  {
   "cell_type": "markdown",
   "metadata": {},
   "source": [
    "## Many consumption goods"
   ]
  },
  {
   "cell_type": "markdown",
   "metadata": {},
   "source": [
    "Consider the following M-good **utility maximization problem** with exogenous income \\\\(I\\\\), and price-vector \\\\((p_1,p_2,\\dots,p_M)\\\\),\n",
    "\n",
    "\\\\[\n",
    "\\begin{eqnarray*}\n",
    "V(p_{1},p_{2},\\dots,,p_{M},I) & = & \\max_{x_{1},x_{2},\\dots,x_M} x_{1}^{\\alpha_1} x_{2}^{\\alpha_2} \\dots x_{M}^{\\alpha_M} \\\\\n",
    " & \\text{s.t.}\\\\\n",
    "\\sum_{i=1}^{M}p_{i}x_{i} & \\leq & I,\\,\\,\\,p_{1},p_{2},\\dots,p_M,I>0\\\\\n",
    "x_{1},x_{2},\\dots,x_M & \\geq & 0\n",
    "\\end{eqnarray*}\n",
    "\\\\]"
   ]
  },
  {
   "cell_type": "markdown",
   "metadata": {},
   "source": [
    "**Problem:** Solve the 5-good utility maximization problem for arbitrary preference parameters, prices and income."
   ]
  },
  {
   "cell_type": "markdown",
   "metadata": {},
   "source": [
    "# Solution is hidden beneath"
   ]
  },
  {
   "cell_type": "markdown",
   "metadata": {},
   "source": [
    "## Many consumption goods\n",
    "\n",
    "We are asked to solve maximize a consumers utility (Cobb-Douglas utility function) given an exogenous income, \\\\(I\\\\) and an exogenous price vector \\\\(\\mathbf P\\\\).\n",
    "\n",
    "A Cobb-Douglas function can generally be written as:\n",
    "\n",
    "\\\\[\n",
    "u({\\mathbf x})=\\prod^M_{m=1}x_m^{\\alpha_m}, {\\mathbf x}=(x_1, x_2, \\ldots, x_M),{\\mathbf x} \\in \\mathbb{R}^M_{\\geq0},{\\mathbf p} \\in \\mathbb{R}^M_{>0}, I > 0\n",
    "\\\\]\n",
    "\n",
    "\n",
    "We further assume that \\\\(\\alpha_m \\in (0, 1)\\\\) and that \\\\(\\sum^M_{m=1}\\alpha_m=1\\\\). Furthermore, we require that the income equals or exceeds the value of the consumption vector. That is \\\\(I\\geq {\\mathbf P}^T{\\mathbf X}=p_1x_1 + p_2x_2 + \\ldots + p_Mx_M\\\\). The maximization problem aim to solve is therefore:\n",
    "\n",
    "\\\\[\n",
    "\\begin{eqnarray*}\n",
    "V(p_{1},p_{2},\\dots,,p_{M},I) & = & \\max_{x_{1},x_{2},\\dots,x_M} x_{1}^{\\alpha_1} x_{2}^{\\alpha_2} \\dots x_{M}^{\\alpha_M} \\\\\n",
    " & \\text{s.t.}\\\\\n",
    "\\sum_{m=1}^{M}p_{m}x_{m} & \\leq & I,\\,\\,\\,p_{1},p_{2},\\dots,p_M,I>0\\\\\n",
    "x_{1},x_{2},\\dots,x_M & \\geq & 0\n",
    "\\end{eqnarray*}\n",
    "\\\\]\n",
    "\n",
    "### How to solve this in Python?\n",
    "\n",
    "What you shouldn't do is to fire up Python and begin to code at this very moment. The first step in solving the above is to make a sequential plan of how we solve it.\n",
    "\n",
    "So one way of solving the following problem is to do a grid search in \\\\(M\\\\) dimensions.\n",
    "\n",
    "------\n",
    "\n",
    "1. Define the utility function\n",
    "1. Define a income validator\n",
    "1. Define a function that returns all combination of x lists\n",
    "1. Then\n",
    "    1. Loop through all rows in the combination matrix\n",
    "    1. Check if the combination yields a higher payoff and it doesn't violates the income restriction. If both true, then save the new combination as new best solution."
   ]
  },
  {
   "cell_type": "code",
   "execution_count": 3,
   "metadata": {},
   "outputs": [
    {
     "name": "stdout",
     "output_type": "stream",
     "text": [
      "(4.310889497008883, array([3.15789474, 4.21052632, 6.31578947, 2.10526316, 4.21052632]))\n"
     ]
    }
   ],
   "source": [
    "import numpy as np\n",
    "\n",
    "def best_choice_mdimensions(I, p, alpha, x):\n",
    "    \"\"\"Utility maximization using gridsearch\n",
    "    \n",
    "    Args:\n",
    "        I(int): The agents income\n",
    "        p(list of int): the pricevector. Should have the same number of elements as columns in x.\n",
    "        alpha(list of doubles): the alphavector. Should have the same number of elements as columns in x.\n",
    "        x(numpyarray): array that contains the values that should be tested of each good. \n",
    "                       The function automatically tests all combinations of the supplied values.\n",
    "    \n",
    "    \"\"\"\n",
    "    grid = product(*x)\n",
    "    best_choice = ()\n",
    "    for i in grid:\n",
    "        if best_choice:\n",
    "            if best_choice[0] < utility_function(i, alpha) and income_okay(i, I, p):\n",
    "                best_choice = (utility_function(i, alpha), i)\n",
    "        elif income_okay(i, I, p):\n",
    "            best_choice = (utility_function(i, alpha), i)\n",
    "    return best_choice\n",
    "\n",
    "def utility_function(x, alpha):\n",
    "    \"\"\"Returns the utility using Cobb-Douglas preferences\"\"\"\n",
    "    return np.product(np.power(x, alpha))\n",
    "\n",
    "def income_okay(x, I, P):\n",
    "    \"\"\"Checks that the income restriction is not violated\"\"\"\n",
    "    if I >= np.sum(x * P):\n",
    "        return True\n",
    "    else:\n",
    "        return False\n",
    "\n",
    "def product(*args):\n",
    "    \"\"\"This function take n iterators and returns a list of lists\n",
    "    that constiutes all possible combinations of the iterators.\"\"\"\n",
    "    res = [[]]\n",
    "    for k in args:\n",
    "        tmp = []\n",
    "        for s in res:\n",
    "            for y in k:\n",
    "                tmp.append(s + [y])\n",
    "        res = tmp\n",
    "    return np.array(res)\n",
    "\n",
    "def product_(*args):\n",
    "    \"\"\"Another way to get all combinations of a set of iterators\"\"\"\n",
    "    res = [[]]\n",
    "    for i in args:\n",
    "        res = [s + [j] for s in res for j in i]\n",
    "    return res\n",
    "\n",
    "\n",
    "I = 100\n",
    "p = np.array([3, 4, 5, 6, 7])\n",
    "alpha = np.array([0.1, 0.2, 0.3, 0.1, 0.3])\n",
    "X = [np.linspace(0, 20, 20) for i in range(5)]\n",
    "print(best_choice_mdimensions(I, p, alpha, X))"
   ]
  },
  {
   "cell_type": "markdown",
   "metadata": {},
   "source": [
    "# Using a solver\n",
    "\n",
    "Another approach to solving the maximization problem is to use a minimizer, and minimize the negated utility function given the income restriction."
   ]
  },
  {
   "cell_type": "code",
   "execution_count": 4,
   "metadata": {},
   "outputs": [
    {
     "name": "stdout",
     "output_type": "stream",
     "text": [
      "x_0 is 4.1 (12% of the income))\n",
      "x_1 is 4.9 (19% of the income))\n",
      "x_2 is 6.2 (31% of the income))\n",
      "x_3 is 1.6 (10% of the income))\n",
      "x_4 is 3.9 (27% of the income))\n",
      "The utility is 4.320874719797351\n",
      "There is 0.0 of the income left\n"
     ]
    },
    {
     "data": {
      "text/plain": [
       "(4.320874719797351,\n",
       " 1.4210854715202004e-13,\n",
       "  final_simplex: (array([[4.10346607, 4.87270339, 6.24777564, 1.61937483, 3.89195158],\n",
       "        [4.1034667 , 4.87270242, 6.24777527, 1.61937484, 3.89195211],\n",
       "        [4.10346654, 4.87270321, 6.24777519, 1.61937475, 3.89195187],\n",
       "        [4.10346622, 4.87270321, 6.24777552, 1.61937486, 3.89195168],\n",
       "        [4.10346645, 4.87270283, 6.24777546, 1.61937476, 3.89195192],\n",
       "        [4.10346555, 4.87270321, 6.24777642, 1.61937474, 3.89195143]]), array([-4.32087472, -4.32087472, -4.32087472, -4.32087472, -4.32087472,\n",
       "        -4.32087472]))\n",
       "            fun: -4.320874719797351\n",
       "        message: 'Optimization terminated successfully.'\n",
       "           nfev: 733\n",
       "            nit: 433\n",
       "         status: 0\n",
       "        success: True\n",
       "              x: array([4.10346607, 4.87270339, 6.24777564, 1.61937483, 3.89195158]))"
      ]
     },
     "execution_count": 4,
     "metadata": {},
     "output_type": "execute_result"
    }
   ],
   "source": [
    "from scipy.optimize import minimize\n",
    "\n",
    "def penalizer(x, alpha, p, i):\n",
    "    \"\"\"Return penalty utility.\n",
    "    \n",
    "    The negative utility is returned if the income restriction\n",
    "    is not violated. Otherwise the x vector is scaled such that\n",
    "    the income restriction is not violated, and a penalty is added\n",
    "    to indicate that the solution is not optimal.\n",
    "    \"\"\"\n",
    "    penalty = 0\n",
    "    U = np.sum(x*p)\n",
    "    ratio = i / U\n",
    "    \n",
    "    if ratio < 1:\n",
    "        x = ratio * x\n",
    "        penalty += 1000 * (U - i)\n",
    "        \n",
    "    return -utility_function(x, alpha) + penalty\n",
    "\n",
    "def optimizer(alpha, p, i, tol, maxiter):\n",
    "    \"\"\"Uses 1 / (number of dimensions) of the income on each good as starting values.\n",
    "    return scipy solution object.\"\"\"\n",
    "    init_values = i / p / len(p)\n",
    "    return minimize(penalizer, init_values, args=(alpha, p, i), method='Nelder-Mead', options={'maxiter': maxiter}, tol=tol)\n",
    "\n",
    "def solver(alpha, p, i, tol=1e-6, maxiter=10000):\n",
    "    \"\"\"Print results of the maximization procedure and \n",
    "    return utility, income_left and the solution object stored within a tuple\"\"\"\n",
    "    sol = optimizer(alpha, p, i, tol, maxiter)\n",
    "    utility = utility_function(sol.x, alpha)\n",
    "    income_left = i - np.sum((p*sol.x))\n",
    "    for indx, x in enumerate(sol.x):\n",
    "        print(f'x_{indx} is {x:.1f} ({p[indx]*x/i:.0%} of the income))')\n",
    "    print(f'The utility is {utility}')\n",
    "    print(f'There is {income_left:.1f} of the income left')\n",
    "    return utility, income_left, sol\n",
    "    \n",
    "solver(alpha, p, I)"
   ]
  },
  {
   "cell_type": "markdown",
   "metadata": {},
   "source": [
    "# Extra Problem: Cost minimization"
   ]
  },
  {
   "cell_type": "markdown",
   "metadata": {},
   "source": [
    "Consider the following 2-good **cost minimziation problem** with required utility \\\\(u_0\\\\), and price-vector \\\\((p_1,p_2)\\\\),\n",
    "\n",
    "\\\\[\n",
    "\\begin{eqnarray*}\n",
    "E(p_{1},p_{2},u_0) & = & \\min_{x_{1},x_{2}} p_1 x_1+p_2 x_2\\\\\n",
    " & \\text{s.t.}\\\\\n",
    "x_{1}^{\\alpha}x_{2}^{1-\\alpha} & \\geq & u_0 \\\\\n",
    "x_{1},x_{2} & \\geq & 0\n",
    "\\end{eqnarray*}\n",
    "\\\\]"
   ]
  },
  {
   "cell_type": "markdown",
   "metadata": {},
   "source": [
    "**Problem:** Solve the 2-good cost-minimization problem with arbitrary required utility, prices and income. Present your results graphically showing that the optimum is a point, where a budgetline is targent to the indifference curve through $u_0$."
   ]
  }
 ],
 "metadata": {
  "kernelspec": {
   "display_name": "Python 3",
   "language": "python",
   "name": "python3"
  },
  "language_info": {
   "codemirror_mode": {
    "name": "ipython",
    "version": 3
   },
   "file_extension": ".py",
   "mimetype": "text/x-python",
   "name": "python",
   "nbconvert_exporter": "python",
   "pygments_lexer": "ipython3",
   "version": "3.7.1"
  },
  "toc": {
   "base_numbering": 1,
   "nav_menu": {},
   "number_sections": true,
   "sideBar": true,
   "skip_h1_title": false,
   "title_cell": "Table of Contents",
   "title_sidebar": "Contents",
   "toc_cell": true,
   "toc_position": {},
   "toc_section_display": true,
   "toc_window_display": false
  }
 },
 "nbformat": 4,
 "nbformat_minor": 2
}
